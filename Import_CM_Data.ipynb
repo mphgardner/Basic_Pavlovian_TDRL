{
  "nbformat": 4,
  "nbformat_minor": 0,
  "metadata": {
    "colab": {
      "provenance": [],
      "authorship_tag": "ABX9TyN49a4T+Mi3pYHHdGFcJKtd",
      "include_colab_link": true
    },
    "kernelspec": {
      "name": "python3",
      "display_name": "Python 3"
    },
    "language_info": {
      "name": "python"
    }
  },
  "cells": [
    {
      "cell_type": "markdown",
      "metadata": {
        "id": "view-in-github",
        "colab_type": "text"
      },
      "source": [
        "<a href=\"https://colab.research.google.com/github/mphgardner/Basic_Pavlovian_TDRL/blob/master/Import_CM_Data.ipynb\" target=\"_parent\"><img src=\"https://colab.research.google.com/assets/colab-badge.svg\" alt=\"Open In Colab\"/></a>"
      ]
    },
    {
      "cell_type": "markdown",
      "source": [
        "### Coding Club 2023-06-20\n",
        "#Importing Data\n",
        "\n",
        "This code walks through importing data into Python. We'll be using example data from the Cue Map Task employed in the Gardner Lab. The data from one experiment is stored in a Google drive found here: https://drive.google.com/drive/folders/1FHKjPFIHPGZtSiJTrvOKytSIoVHWAKgK?usp=sharing\n",
        "\n",
        "Each file in the folder is from a single experimental session from one rat. **We'll start with importing just one file: CM01-01_15.txt**\n",
        "\n",
        "The .txt data files consist of many lines of text, each line separated by a carriage return. The first several lines contain headers - for most files, including the example session above, this is 7 lines. The headers contain important information regarding the experiment, so it's important to keep, yet this can vary substantially depending upon the experiment.\n",
        "\n",
        "There are different ways to handle importing header information. One way is to have separate code for handling the n header lines of the code, then to switch to importing of the recorded data. Because the header number changed across sessions in this particular experiment, we used an 'else if' statement to check whether a line was a header, and more specificially, to determine what type of information was in a header line. Below is the code we started writing for header imports.\n",
        "\n",
        "Once the headers are read, switch to importing the data. There are two column to import. The first column has timestamps of events and the second colum lists event types. The event types are numbered 1 to 144, F, and L, I and O for 148 total events. The I and O refer to the dependent variable, these are when the rat enters the food magazine (I) and when the rat leaves (O) the magazine. The other event types are independent variables which refer to different stimuli which are presented to the animal.\n",
        "\n",
        "# Challenge for next week\n",
        "\n",
        "Background\n",
        "\n",
        "We want to import the data into two matrices, one representing the dependent variable (just one in our example) and the other representing the independent variables. These will be boolean matrices, with size n x t, where n is the number of events and t is the number of millisecond time bins for the experiment.\n",
        "\n",
        "For the dependent variable, the boolean values should be 1 when the rat is in the food magazine (these are times between an I and an O in the raw data), and zero when the rat is not in the magazine. For example, if the session is 10 seconds long, and there is an I at 5.000 and a O at 6.000, the dependent variable matrix should be a 1 x 10,000 boolean numpy array with true (or 1) values from 5,000 to 5,999. This indicates that the rat was in the food magazine for those millisecond time bins.\n",
        "\n",
        "The matrix for the independent variables should look exactly the same but should be a matrix of 146 x t (t as the number of millisceconds), rather than a vector of 1 x t as was the case for our single dependent variable. Also, it would be helpful to have a 1 x 146 vector with the categorical descriptor of the independent variables (use the descriptors in the second column in the .txt file).\n",
        "\n",
        "# Task\n",
        "\n",
        "Write a function that takes a vector of onset and offset times (these are the I's and O's, respectively, in the second column of the raw data file - the times of I's and O's are the corresponding values in the first column) and makes a new vector with a length of the duration of the session (this should be the difference between the 'start' and 'end' values in the second column) x 1,000 to convert to milliseconds. With values of the boolean vector being whether the signal is on (between an I and an O) or off (between an O and an I) An example of this vector is described in the Background above.\n",
        "\n",
        "Below is the code we worked on during coding club for extracting the data. You'll have to play around with the different code to figure out how to extract the two columns of data (timestamps in seconds in column 1 and categorical descriptor of the event in column 2). Ignore the headers for now!\n"
      ],
      "metadata": {
        "id": "imVDk8qQLO9l"
      }
    },
    {
      "cell_type": "code",
      "source": [
        "import os\n",
        "import pandas as pd\n",
        "import glob\n",
        "from google.colab import drive\n",
        "from os.path import join\n",
        "import numpy as np\n",
        "\n",
        "drive.mount('/content/gdrive')\n",
        "\n",
        "\n"
      ],
      "metadata": {
        "id": "Z1OjHyJd8k2F"
      },
      "execution_count": null,
      "outputs": []
    },
    {
      "cell_type": "markdown",
      "source": [
        "go to google drive, find the shared drive listed above and add a shortcut to the shared folder. This will create a shortcut within your gdrive. Set your working directory to that location"
      ],
      "metadata": {
        "id": "cetgld_HDQvp"
      }
    },
    {
      "cell_type": "code",
      "source": [
        "working_dir = '/content/gdrive/My Drive/Colab Notebooks/data/CM_Data/Data'"
      ],
      "metadata": {
        "id": "MPxuvOWK90Cr"
      },
      "execution_count": 12,
      "outputs": []
    },
    {
      "cell_type": "code",
      "source": [
        "fname = glob.glob(join(working_dir,'CM01-01_15.txt'))\n",
        "fname = fname[0]\n",
        "print(fname)"
      ],
      "metadata": {
        "colab": {
          "base_uri": "https://localhost:8080/"
        },
        "id": "HnFq8dIN-Oym",
        "outputId": "3136ad07-91b5-49cf-d346-22549baa1171"
      },
      "execution_count": 28,
      "outputs": [
        {
          "output_type": "stream",
          "name": "stdout",
          "text": [
            "/content/gdrive/My Drive/Colab Notebooks/data/CM_Data/Data/CM01-01_15.txt\n"
          ]
        }
      ]
    },
    {
      "cell_type": "code",
      "source": [
        "with open(fname,'r') as r:\n",
        "  f = r.readlines()"
      ],
      "metadata": {
        "id": "lHmCVWhACmwh"
      },
      "execution_count": 29,
      "outputs": []
    },
    {
      "cell_type": "code",
      "source": [
        "f[0]"
      ],
      "metadata": {
        "colab": {
          "base_uri": "https://localhost:8080/",
          "height": 35
        },
        "id": "Ov_82HgJHzLv",
        "outputId": "7023d1f4-6bfc-419d-83b7-c13dd0849a1a"
      },
      "execution_count": 30,
      "outputs": [
        {
          "output_type": "execute_result",
          "data": {
            "text/plain": [
              "'Reward Zones: [46, 113]\\n'"
            ],
            "application/vnd.google.colaboratory.intrinsic+json": {
              "type": "string"
            }
          },
          "metadata": {},
          "execution_count": 30
        }
      ]
    },
    {
      "cell_type": "code",
      "source": [
        "for idx,line in enumerate(f):\n",
        "  #print(line)\n",
        "  #print(idx)\n",
        "  line = line.replace(\"\\n\",\"\")\n",
        "  if line == \"##\":\n",
        "    print(f\"{idx}: {line}\")\n",
        "    break\n",
        "start_idx = idx +1\n",
        "print(start_idx)"
      ],
      "metadata": {
        "colab": {
          "base_uri": "https://localhost:8080/"
        },
        "id": "Zct9rbzjIA2Y",
        "outputId": "c1d14e26-bb42-462c-bde2-a39c04763d92"
      },
      "execution_count": 34,
      "outputs": [
        {
          "output_type": "stream",
          "name": "stdout",
          "text": [
            "6: ##\n",
            "7\n"
          ]
        }
      ]
    },
    {
      "cell_type": "markdown",
      "source": [
        "let's skip headers for now"
      ],
      "metadata": {
        "id": "BatW25ZWICKD"
      }
    },
    {
      "cell_type": "code",
      "source": [
        "data = f[start_idx:]\n",
        "data = [line.replace(\"\\n\",\"\") for line in data]\n",
        "\n",
        "# d2 = []\n",
        "# for line in data:\n",
        "#   d2.append(line.replace(\"\\n\",\"\"))"
      ],
      "metadata": {
        "id": "yfdtHxzhJtFU"
      },
      "execution_count": 35,
      "outputs": []
    },
    {
      "cell_type": "code",
      "source": [
        "print(data[0])"
      ],
      "metadata": {
        "colab": {
          "base_uri": "https://localhost:8080/"
        },
        "id": "rZLk8oQ1KQXO",
        "outputId": "56a9d39f-e1f2-40fb-f2cd-2feeea53fefb"
      },
      "execution_count": 36,
      "outputs": [
        {
          "output_type": "stream",
          "name": "stdout",
          "text": [
            "-328.8306   I\n"
          ]
        }
      ]
    },
    {
      "cell_type": "markdown",
      "source": [
        "Now let's access each line within the data list and collect the times (first column) and the events (second column)"
      ],
      "metadata": {
        "id": "UDGJmxTtKq3p"
      }
    },
    {
      "cell_type": "code",
      "source": [
        "l2 = data[0].split(\"   \")\n",
        "print(l2[0])\n",
        "print(l2[1])"
      ],
      "metadata": {
        "colab": {
          "base_uri": "https://localhost:8080/"
        },
        "id": "85MX_eubLY_X",
        "outputId": "bb831a79-d166-4196-bb65-06b8796c93a2"
      },
      "execution_count": 40,
      "outputs": [
        {
          "output_type": "stream",
          "name": "stdout",
          "text": [
            "-328.8306\n",
            "I\n"
          ]
        }
      ]
    },
    {
      "cell_type": "code",
      "source": [
        "times=[]\n",
        "events=[]\n",
        "\n",
        "for line in data:\n",
        "  l2 = line.split(\"   \")\n",
        "  times.append(l2[0])\n",
        "  events.append(l2[1])"
      ],
      "metadata": {
        "id": "fkQb6Ss2KM6q"
      },
      "execution_count": 42,
      "outputs": []
    },
    {
      "cell_type": "code",
      "source": [
        "print(times[0:10])\n",
        "print(events[0:10])\n"
      ],
      "metadata": {
        "colab": {
          "base_uri": "https://localhost:8080/"
        },
        "id": "N-IvwiNNNMuu",
        "outputId": "02a052a0-aa0d-4331-c731-9e2522b6fd06"
      },
      "execution_count": 46,
      "outputs": [
        {
          "output_type": "stream",
          "name": "stdout",
          "text": [
            "['-328.8306', '-328.6300', '-270.3963', '-270.0735', '-164.0716', '-163.5771', '-147.1261', '-146.9643', '-143.2354', '-143.1874']\n",
            "['I', 'O', 'I', 'O', 'I', 'O', 'I', 'O', 'I', 'O']\n"
          ]
        }
      ]
    },
    {
      "cell_type": "markdown",
      "source": [
        "convert times and events into a numpy array"
      ],
      "metadata": {
        "id": "1ULGUX4TQnCm"
      }
    },
    {
      "cell_type": "code",
      "source": [
        "times = np.array(times).astype(np.float32)\n",
        "events = np.array(events)\n"
      ],
      "metadata": {
        "id": "RzoXcwCwQl_P"
      },
      "execution_count": 49,
      "outputs": []
    },
    {
      "cell_type": "code",
      "source": [
        "i = events=='I'\n",
        "o = events=='O'\n",
        "i[0:10]\n",
        "\n",
        "\n"
      ],
      "metadata": {
        "colab": {
          "base_uri": "https://localhost:8080/"
        },
        "id": "wwtaFm9_Rj-e",
        "outputId": "d63a6f72-6b5d-4736-b54c-3df477b0100f"
      },
      "execution_count": 51,
      "outputs": [
        {
          "output_type": "execute_result",
          "data": {
            "text/plain": [
              "array([ True, False,  True, False,  True, False,  True, False,  True,\n",
              "       False])"
            ]
          },
          "metadata": {},
          "execution_count": 51
        }
      ]
    },
    {
      "cell_type": "markdown",
      "source": [
        "If an output occurs from the start of the session, remove it"
      ],
      "metadata": {
        "id": "zSGvlvSqckBj"
      }
    },
    {
      "cell_type": "code",
      "source": [
        "if times[o[0]] < times[i[0]]:\n",
        "  o = np.delete(o,0)"
      ],
      "metadata": {
        "id": "zHcnvzuxa6-V"
      },
      "execution_count": null,
      "outputs": []
    },
    {
      "cell_type": "code",
      "source": [
        "#initialize the time vector in milliseconds\n",
        "RespV = np.zeros(int(times[-1]*1000)).astype(bool)\n",
        "\n",
        "\n",
        "if times[o[0]] < times[i[0]]:\n",
        "\n",
        "for ind in i:\n",
        "  if times[i] < 0:\n",
        "    continue\n",
        "  #make sure that the next output follows in the current input\n",
        "  if times[o[ind]] < times[i[ind + 1]]:\n",
        "\n"
      ],
      "metadata": {
        "id": "LtAtMIb9RmVm"
      },
      "execution_count": null,
      "outputs": []
    },
    {
      "cell_type": "markdown",
      "source": [],
      "metadata": {
        "id": "vm4jKSbfciE4"
      }
    },
    {
      "cell_type": "markdown",
      "source": [],
      "metadata": {
        "id": "-CpHrexyci6D"
      }
    },
    {
      "cell_type": "code",
      "source": [],
      "metadata": {
        "id": "LohXaQJna4nq"
      },
      "execution_count": null,
      "outputs": []
    },
    {
      "cell_type": "code",
      "source": [],
      "metadata": {
        "id": "RKxP1buNa5v6"
      },
      "execution_count": null,
      "outputs": []
    },
    {
      "cell_type": "code",
      "source": [],
      "metadata": {
        "id": "5V9Lr5MnV77f"
      },
      "execution_count": 60,
      "outputs": []
    },
    {
      "cell_type": "code",
      "source": [],
      "metadata": {
        "colab": {
          "base_uri": "https://localhost:8080/"
        },
        "id": "l_h06axMYOI0",
        "outputId": "e91c9f74-36aa-4341-ad31-b8aa0ebfe377"
      },
      "execution_count": 61,
      "outputs": [
        {
          "output_type": "execute_result",
          "data": {
            "text/plain": [
              "10368.447"
            ]
          },
          "metadata": {},
          "execution_count": 61
        }
      ]
    },
    {
      "cell_type": "code",
      "execution_count": 1,
      "metadata": {
        "colab": {
          "base_uri": "https://localhost:8080/"
        },
        "id": "-sisyjJ0yNWO",
        "outputId": "3e5faa3a-f7d5-484a-e3a6-82a4b0a61ab4"
      },
      "outputs": [
        {
          "output_type": "stream",
          "name": "stdout",
          "text": [
            "/content\n",
            "Mounted at /content/gdrive\n",
            "/content\n"
          ]
        }
      ],
      "source": [
        "import os\n",
        "import pandas as pd\n",
        "import glob\n",
        "from google.colab import drive\n",
        "from os.path import join\n",
        "import numpy as np\n",
        "print(os.getcwd())\n",
        "drive.mount('/content/gdrive')\n",
        "print(os.getcwd())"
      ]
    },
    {
      "cell_type": "code",
      "source": [],
      "metadata": {
        "id": "iHRWj7h6NNs0"
      },
      "execution_count": null,
      "outputs": []
    },
    {
      "cell_type": "code",
      "source": [],
      "metadata": {
        "id": "FmiRK3BMKRYq"
      },
      "execution_count": null,
      "outputs": []
    },
    {
      "cell_type": "code",
      "execution_count": 5,
      "metadata": {
        "id": "7llquBsVyawl"
      },
      "outputs": [],
      "source": [
        "#create your 'data' subdirectory in google drive, then create a test file\n",
        "#open it in google drive!\n",
        "working_dir = '/content/gdrive/My Drive/Colab Notebooks/data/MG_Lab_Data'\n"
      ]
    },
    {
      "cell_type": "code",
      "execution_count": null,
      "metadata": {
        "colab": {
          "base_uri": "https://localhost:8080/"
        },
        "id": "b-XADGeZy8H_",
        "outputId": "57548ae4-105a-4477-db4d-7587e9504f6e"
      },
      "outputs": [
        {
          "data": {
            "text/plain": [
              "['/content/gdrive/My Drive/Colab Notebooks/data/MG_Lab_Data/CM01-15_57.txt',\n",
              " '/content/gdrive/My Drive/Colab Notebooks/data/MG_Lab_Data/CM01-16_13.txt',\n",
              " '/content/gdrive/My Drive/Colab Notebooks/data/MG_Lab_Data/CM01-16_15.txt',\n",
              " '/content/gdrive/My Drive/Colab Notebooks/data/MG_Lab_Data/CM01-16_14.txt']"
            ]
          },
          "execution_count": 59,
          "metadata": {},
          "output_type": "execute_result"
        }
      ],
      "source": [
        "glob.glob(join(working_dir,'*.txt'))"
      ]
    },
    {
      "cell_type": "code",
      "execution_count": null,
      "metadata": {
        "colab": {
          "base_uri": "https://localhost:8080/"
        },
        "id": "Rj9obXvKClXe",
        "outputId": "e33c9e3d-4ace-4816-f773-6600d076cb7b"
      },
      "outputs": [
        {
          "name": "stdout",
          "output_type": "stream",
          "text": [
            "/content/gdrive/My Drive/Colab Notebooks/data/MG_Lab_Data/CM01-15_57.txt\n"
          ]
        }
      ],
      "source": [
        "fname = glob.glob(join(working_dir,'*.txt'))[0]\n",
        "print(fname)"
      ]
    },
    {
      "cell_type": "code",
      "execution_count": null,
      "metadata": {
        "id": "kd6U5pGKCkSD"
      },
      "outputs": [],
      "source": [
        "with open(fname,'r') as r:\n",
        "  f = r.readlines()"
      ]
    },
    {
      "cell_type": "code",
      "execution_count": null,
      "metadata": {
        "colab": {
          "base_uri": "https://localhost:8080/"
        },
        "id": "OacvR8i5C_z9",
        "outputId": "a2200cec-0ddc-4940-e40a-3204ed8335f8"
      },
      "outputs": [
        {
          "name": "stdout",
          "output_type": "stream",
          "text": [
            "6: ##\n"
          ]
        }
      ],
      "source": [
        "for idx,line in enumerate(f):\n",
        "  line = line.replace(\"\\n\",\"\")\n",
        "  if line == \"##\":\n",
        "    print(f\"{idx}: {line}\")\n",
        "    break\n",
        "start_idx = idx +1"
      ]
    },
    {
      "cell_type": "code",
      "execution_count": null,
      "metadata": {
        "id": "gwlKIlDaDsoh"
      },
      "outputs": [],
      "source": [
        "data = f[start_idx:]\n",
        "data = [line.replace(\"\\n\",\"\") for line in data]\n",
        "\n",
        "# d2 = []\n",
        "# for line in data:\n",
        "#   d2.append(line.replace(\"\\n\",\"\"))"
      ]
    },
    {
      "cell_type": "code",
      "execution_count": null,
      "metadata": {
        "id": "U8-HolmvFKVp"
      },
      "outputs": [],
      "source": [
        "times=[]\n",
        "events=[]\n",
        "\n",
        "for line in data:\n",
        "  l2 = line.split(\"   \")\n",
        "  times.append(l2[0])\n",
        "  events.append(l2[1])"
      ]
    },
    {
      "cell_type": "code",
      "execution_count": null,
      "metadata": {
        "id": "OKD01jjnFbnO"
      },
      "outputs": [],
      "source": [
        "times = np.array(times).astype(np.float32)\n",
        "events = np.array(events)\n",
        "i_idxs = events=='I'\n",
        "o_idxs = events=='O'\n"
      ]
    },
    {
      "cell_type": "code",
      "source": [],
      "metadata": {
        "id": "1zeKnwpuQjF0"
      },
      "execution_count": null,
      "outputs": []
    },
    {
      "cell_type": "code",
      "execution_count": null,
      "metadata": {
        "colab": {
          "base_uri": "https://localhost:8080/",
          "height": 448
        },
        "id": "_a80ZVYiGZMD",
        "outputId": "7b51a4e3-b1f0-4cc4-c9e8-b7d6bc8688af"
      },
      "outputs": [
        {
          "data": {
            "text/plain": [
              "[<matplotlib.lines.Line2D at 0x7f1cf3244310>]"
            ]
          },
          "execution_count": 113,
          "metadata": {},
          "output_type": "execute_result"
        },
        {
          "data": {
            "image/png": "[encoded data removed]",
            "text/plain": [
              "<Figure size 640x480 with 1 Axes>"
            ]
          },
          "metadata": {},
          "output_type": "display_data"
        }
      ],
      "source": [
        "%matplotlib inline\n",
        "from matplotlib import pyplot as plt\n",
        "plt.plot(np.diff(times[0:5000]),'.')"
      ]
    },
    {
      "cell_type": "markdown",
      "source": [],
      "metadata": {
        "id": "OFgAkUa6LGlV"
      }
    },
    {
      "cell_type": "code",
      "source": [],
      "metadata": {
        "id": "V62SnXOXvJ86"
      },
      "execution_count": null,
      "outputs": []
    },
    {
      "cell_type": "markdown",
      "source": [
        "Here is the beginning of an import function to collect the data. Here we were working on importing the header data"
      ],
      "metadata": {
        "id": "fI0B-vTMyC5q"
      }
    },
    {
      "cell_type": "code",
      "execution_count": null,
      "metadata": {
        "id": "7klruWPpt-hz"
      },
      "outputs": [],
      "source": [
        "\"\"\"\n",
        "Created on Fri May 26 13:44:34 2023\n",
        "@author: mgardner\n",
        "\n",
        "Importing data for the Cue Map experiment\n",
        "\n",
        "\"\"\"\n",
        "import numpy as np\n",
        "import re\n",
        "###########OUTLINE######################################\n",
        "#get the data folder location\n",
        "\n",
        "#open the data file\n",
        "\n",
        "#read the header information\n",
        "\n",
        "#get rat number\n",
        "\n",
        "#get experiment information\n",
        "\n",
        "#import data\n",
        "\n",
        "#look for double pound sign\n",
        "\n",
        "#for data collection determine the inpokes and outpokes for the duration of each index\n",
        "#the index refers to a cue\n",
        "\n",
        "#loop through all indices in the session and collect data\n",
        "\n",
        "#save the data\n",
        "#############################################################3\n",
        "\n",
        "#Function for extracting inpoke/outpoke times and determining number of pokes during an event\n",
        "#or the percent time spent during an event\n",
        "\n",
        "\n",
        "#get the data folder location\n",
        "data_folder = 'C:/Data/Cue Map/Pi_021523_Run/Data'\n",
        "\n",
        "file  = 'CM02-01_23.txt'\n",
        "\n",
        "#get full path of file\n",
        "filename = data_folder + '/' + file\n",
        "\n",
        "#open the data file\n",
        "with open (filename, 'r') as r:\n",
        "    f = r.readlines()\n",
        "\n",
        "#loop through each line in the headers\n",
        "for i,line in enumerate(f):\n",
        "\n",
        "    #determine whether this is header or not\n",
        "    if line == '##':\n",
        "\n",
        "        break\n",
        "\n",
        "    #check for the reward zones\n",
        "    elif line[:12] == 'Reward Zones':\n",
        "        reward_zones = [int(s) for s in re.findall(r'\\d+', line)]\n",
        "        continue\n",
        "\n",
        "        #check for Date\n",
        "    elif line.count('/') == 2:\n",
        "        date = line\n",
        "\n",
        "    #find the list info\n",
        "    elif line[:4] == 'List':\n",
        "        file_info = line[6:-1]\n",
        "\n",
        "#Now loop through data\n",
        "for line in f[i+1:]:\n",
        "\n",
        "\n",
        "\n",
        "\n",
        "        #check for\n",
        "\n",
        "\n",
        "\n",
        "\n",
        "#read the header information\n",
        "\n",
        "#get rat number\n",
        "\n",
        "#get experiment information\n",
        "\n",
        "#import data\n",
        "\n",
        "#look for double pound sign\n",
        "\n",
        "#for data collection determine the inpokes and outpokes for the duration of each index\n",
        "#the index refers to a cue\n",
        "\n",
        "#loop through all indices in the session and collect data\n",
        "\n",
        "#save the data\n",
        "\n",
        "\n",
        "\n",
        "######\n",
        "\n",
        "\n"
      ]
    }
  ]
}